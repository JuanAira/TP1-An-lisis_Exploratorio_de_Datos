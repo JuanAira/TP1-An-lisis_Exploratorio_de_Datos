{
 "cells": [
  {
   "cell_type": "code",
   "execution_count": 6,
   "metadata": {},
   "outputs": [],
   "source": [
    "import pandas as pd\n",
    "import numpy as np\n",
    "%matplotlib inline\n",
    "import matplotlib.pyplot as plt\n",
    "import seaborn as sns"
   ]
  },
  {
   "cell_type": "code",
   "execution_count": 8,
   "metadata": {},
   "outputs": [],
   "source": [
    "data = pd.read_csv(\"C:/Users/Lautaro/Desktop/testt/fakejob.csv\");\n",
    "data.head();"
   ]
  },
  {
   "cell_type": "markdown",
   "metadata": {},
   "source": [
    "### Diccionario de datos ;)\n",
    "\n",
    "| Variable            | Descripcion                                                   | Es utilizada | Entrada/Salida |\n",
    "|---------------------|---------------------------------------------------------------|--------------|----------------|\n",
    "| job_id              | Id único del anuncio.                                         | NO           | -              |\n",
    "| title               | Título del anuncio                                            | NO           | -              |\n",
    "| location            | Ubicación geografica del anuncio                              | SI           | Entrada        |\n",
    "| department          | Departamento de la empresa                                    | SI           | Entrada        |\n",
    "| salary_range        | Rango de salario ofrecido del anuncio                         | NO           | -              |\n",
    "| company_profile     | Descripcion de la empresa                                     | SI           | Entrada        |\n",
    "| description         | Descripción detallada del anuncio                             | NO           | -              |\n",
    "| requirements        | Requisitos necesarios                                         | SI           | Entrada        |\n",
    "| benefits            | Beneficios ofrecidos por el empleador                         | NO           | -              |\n",
    "| telecommuting       | Posibilidad Homeoffice                 (0/1)                  | SI           | Entrada        |\n",
    "| has_company_logo    | Anuncio contiene logo de la empresa    (0/1)                  | SI           | Entrada        |\n",
    "| has_questions       | Se requiere evaluación previa          (0/1)                  | SI           | Entrada        |\n",
    "| employment_type     | Tipo de empleo           (Full-Time / Part-Time / Contract)   | SI           | Entrada        |\n",
    "| required_experience | Experiencia requerida                                         | SI           | Entrada        |\n",
    "| required_education  | Nivel de educación requerida                                  | SI           | Entrada        |\n",
    "| industry            | Tipo de rubro de la empresa                                   | NO           | -              |\n",
    "| function            | Ámbito de trabajo                                             | NO           | -              |\n",
    "| fraudulent          | Veracidad del anuncio                  (0/1)                  | SI           | Salida         |"
   ]
  },
  {
   "cell_type": "markdown",
   "metadata": {},
   "source": [
    "### Notas sobre las variables:\n",
    "\n",
    "- **departament: Área funcional de la empresa. Ejemplo: Ventas, compras, sistemas, etc. ** \n",
    "- **company_profile: Breve descripción de la empresa. ** \n",
    "- **industry: Rubro referido a la empresa en cuestión. Ejemplo: Informatica, bienes inmuebles, etc. **\n",
    "- **function: Funcion a desarrollar dentro de la empresa. Ejemplo: Consultoria, Administración, Soporte, etc. ** \n"
   ]
  },
  {
   "cell_type": "markdown",
   "metadata": {},
   "source": [
    "### Variable de salida:\n",
    "\n",
    " - Nuestra variable de salida /target va a ser **fraudulent**.\n",
    " - Sus posibles valores de salida serán, 0 = Verdadero , 1 = Falso."
   ]
  },
  {
   "cell_type": "markdown",
   "metadata": {},
   "source": [
    "### Analisis de valores null"
   ]
  },
  {
   "cell_type": "code",
   "execution_count": 10,
   "metadata": {},
   "outputs": [
    {
     "data": {
      "text/plain": [
       "job_id                     0\n",
       "title                      0\n",
       "location                 346\n",
       "department             11547\n",
       "salary_range           15012\n",
       "company_profile         3308\n",
       "description                1\n",
       "requirements            2695\n",
       "benefits                7210\n",
       "telecommuting              0\n",
       "has_company_logo           0\n",
       "has_questions              0\n",
       "employment_type         3471\n",
       "required_experience     7050\n",
       "required_education      8105\n",
       "industry                4903\n",
       "function                6455\n",
       "fraudulent                 0\n",
       "dtype: int64"
      ]
     },
     "execution_count": 10,
     "metadata": {},
     "output_type": "execute_result"
    }
   ],
   "source": [
    "data.isnull().sum()"
   ]
  },
  {
   "cell_type": "markdown",
   "metadata": {},
   "source": [
    "#### Anuncios con departamentos nulos que son falsos"
   ]
  },
  {
   "cell_type": "code",
   "execution_count": 94,
   "metadata": {
    "scrolled": false
   },
   "outputs": [
    {
     "data": {
      "text/plain": [
       "job_id                 531\n",
       "title                  531\n",
       "location               514\n",
       "department               0\n",
       "salary_range           105\n",
       "company_profile         96\n",
       "description            530\n",
       "requirements           402\n",
       "benefits               266\n",
       "telecommuting          531\n",
       "has_company_logo       531\n",
       "has_questions          531\n",
       "employment_type        375\n",
       "required_experience    212\n",
       "required_education     192\n",
       "industry               337\n",
       "function               274\n",
       "fraudulent             531\n",
       "dtype: int64"
      ]
     },
     "execution_count": 94,
     "metadata": {},
     "output_type": "execute_result"
    }
   ],
   "source": [
    "departaments = data[data.department.isnull()]\n",
    "falsas = departaments[departaments.fraudulent == 1]\n",
    "falsas.count()"
   ]
  },
  {
   "cell_type": "markdown",
   "metadata": {},
   "source": [
    "#### Anuncios con departamentos nulos que son verdaderos\n"
   ]
  },
  {
   "cell_type": "code",
   "execution_count": 95,
   "metadata": {},
   "outputs": [
    {
     "data": {
      "text/plain": [
       "job_id                 11016\n",
       "title                  11016\n",
       "location               10738\n",
       "department                 0\n",
       "salary_range            1478\n",
       "company_profile         9098\n",
       "description            11016\n",
       "requirements            9067\n",
       "benefits                5986\n",
       "telecommuting          11016\n",
       "has_company_logo       11016\n",
       "has_questions          11016\n",
       "employment_type         8969\n",
       "required_experience     6328\n",
       "required_education      5953\n",
       "industry                7939\n",
       "function                6370\n",
       "fraudulent             11016\n",
       "dtype: int64"
      ]
     },
     "execution_count": 95,
     "metadata": {},
     "output_type": "execute_result"
    }
   ],
   "source": [
    "departaments = data[data.department.isnull()]\n",
    "verdaderas = departaments[departaments.fraudulent == 0]\n",
    "verdaderas.count()"
   ]
  },
  {
   "cell_type": "code",
   "execution_count": null,
   "metadata": {},
   "outputs": [],
   "source": []
  }
 ],
 "metadata": {
  "kernelspec": {
   "display_name": "Python 3",
   "language": "python",
   "name": "python3"
  },
  "language_info": {
   "codemirror_mode": {
    "name": "ipython",
    "version": 3
   },
   "file_extension": ".py",
   "mimetype": "text/x-python",
   "name": "python",
   "nbconvert_exporter": "python",
   "pygments_lexer": "ipython3",
   "version": "3.7.0"
  }
 },
 "nbformat": 4,
 "nbformat_minor": 4
}
