{
 "cells": [
  {
   "cell_type": "code",
   "execution_count": 2,
   "metadata": {},
   "outputs": [
    {
     "name": "stderr",
     "output_type": "stream",
     "text": [
      "Using TensorFlow backend.\n"
     ]
    }
   ],
   "source": [
    "import numpy as np\n",
    "import pandas as pd\n",
    "import keras\n",
    "from collections import defaultdict\n",
    "from matplotlib import pyplot as plt\n",
    "import seaborn as sns\n",
    "import langid\n",
    "from keras import backend as K\n",
    "\n",
    "from matplotlib import pyplot as plt\n",
    "\n",
    "from keras.models import Sequential\n",
    "from keras.layers import Dense, Activation, Input, Dropout\n",
    "\n",
    "from sklearn.metrics import accuracy_score, precision_score, recall_score, f1_score, confusion_matrix\n",
    "from sklearn.model_selection import train_test_split\n",
    "from sklearn.neighbors import KNeighborsClassifier\n",
    "from sklearn.linear_model import LogisticRegression\n",
    "from sklearn.preprocessing import StandardScaler\n",
    "from sklearn.pipeline import Pipeline\n",
    "from sklearn.ensemble import RandomForestClassifier\n",
    "from sklearn.model_selection import train_test_split\n",
    "from sklearn_pandas import DataFrameMapper\n",
    "from sklearn.preprocessing import minmax_scale"
   ]
  },
  {
   "cell_type": "markdown",
   "metadata": {},
   "source": [
    "### Métrica de performance\n",
    "Decidimos utilizar la métrica **F1-Scrore**. con el objetivo de poder establecer una relación entre **Precission y Recall** ya que a través de Precission que nos interesará ser precisos en los casos en los que queremos estar seguros de hacer una predicción correcta. Por otro lado, a través de recall nos permitirá que la predicción sea la correcta en la mayoría de los casos. \n",
    "Es necesario tomar ambas métricas con el fin de construir los mejores modelos posibles. \n",
    "\n",
    "Cabe mencionar, que en nuestro caso Accuracy no sería una métrica correcta para medir nuestros modelos ya que el dataset está muy desbalanceado. \n"
   ]
  },
  {
   "cell_type": "code",
   "execution_count": 3,
   "metadata": {},
   "outputs": [],
   "source": [
    "#data = pd.read_csv(\"C:/Users/juana/test/csvFake.csv\")\n",
    "data = pd.read_csv(\"./fake_job_postings.csv\")"
   ]
  },
  {
   "cell_type": "code",
   "execution_count": 4,
   "metadata": {},
   "outputs": [
    {
     "data": {
      "text/html": [
       "<div>\n",
       "<style scoped>\n",
       "    .dataframe tbody tr th:only-of-type {\n",
       "        vertical-align: middle;\n",
       "    }\n",
       "\n",
       "    .dataframe tbody tr th {\n",
       "        vertical-align: top;\n",
       "    }\n",
       "\n",
       "    .dataframe thead th {\n",
       "        text-align: right;\n",
       "    }\n",
       "</style>\n",
       "<table border=\"1\" class=\"dataframe\">\n",
       "  <thead>\n",
       "    <tr style=\"text-align: right;\">\n",
       "      <th></th>\n",
       "      <th>job_id</th>\n",
       "      <th>title</th>\n",
       "      <th>location</th>\n",
       "      <th>department</th>\n",
       "      <th>salary_range</th>\n",
       "      <th>company_profile</th>\n",
       "      <th>description</th>\n",
       "      <th>requirements</th>\n",
       "      <th>benefits</th>\n",
       "      <th>telecommuting</th>\n",
       "      <th>has_company_logo</th>\n",
       "      <th>has_questions</th>\n",
       "      <th>employment_type</th>\n",
       "      <th>required_experience</th>\n",
       "      <th>required_education</th>\n",
       "      <th>industry</th>\n",
       "      <th>function</th>\n",
       "      <th>fraudulent</th>\n",
       "    </tr>\n",
       "  </thead>\n",
       "  <tbody>\n",
       "    <tr>\n",
       "      <th>0</th>\n",
       "      <td>1</td>\n",
       "      <td>Marketing Intern</td>\n",
       "      <td>US, NY, New York</td>\n",
       "      <td>Marketing</td>\n",
       "      <td>NaN</td>\n",
       "      <td>We're Food52, and we've created a groundbreaki...</td>\n",
       "      <td>Food52, a fast-growing, James Beard Award-winn...</td>\n",
       "      <td>Experience with content management systems a m...</td>\n",
       "      <td>NaN</td>\n",
       "      <td>0</td>\n",
       "      <td>1</td>\n",
       "      <td>0</td>\n",
       "      <td>Other</td>\n",
       "      <td>Internship</td>\n",
       "      <td>NaN</td>\n",
       "      <td>NaN</td>\n",
       "      <td>Marketing</td>\n",
       "      <td>0</td>\n",
       "    </tr>\n",
       "    <tr>\n",
       "      <th>1</th>\n",
       "      <td>2</td>\n",
       "      <td>Customer Service - Cloud Video Production</td>\n",
       "      <td>NZ, , Auckland</td>\n",
       "      <td>Success</td>\n",
       "      <td>NaN</td>\n",
       "      <td>90 Seconds, the worlds Cloud Video Production ...</td>\n",
       "      <td>Organised - Focused - Vibrant - Awesome!Do you...</td>\n",
       "      <td>What we expect from you:Your key responsibilit...</td>\n",
       "      <td>What you will get from usThrough being part of...</td>\n",
       "      <td>0</td>\n",
       "      <td>1</td>\n",
       "      <td>0</td>\n",
       "      <td>Full-time</td>\n",
       "      <td>Not Applicable</td>\n",
       "      <td>NaN</td>\n",
       "      <td>Marketing and Advertising</td>\n",
       "      <td>Customer Service</td>\n",
       "      <td>0</td>\n",
       "    </tr>\n",
       "    <tr>\n",
       "      <th>2</th>\n",
       "      <td>3</td>\n",
       "      <td>Commissioning Machinery Assistant (CMA)</td>\n",
       "      <td>US, IA, Wever</td>\n",
       "      <td>NaN</td>\n",
       "      <td>NaN</td>\n",
       "      <td>Valor Services provides Workforce Solutions th...</td>\n",
       "      <td>Our client, located in Houston, is actively se...</td>\n",
       "      <td>Implement pre-commissioning and commissioning ...</td>\n",
       "      <td>NaN</td>\n",
       "      <td>0</td>\n",
       "      <td>1</td>\n",
       "      <td>0</td>\n",
       "      <td>NaN</td>\n",
       "      <td>NaN</td>\n",
       "      <td>NaN</td>\n",
       "      <td>NaN</td>\n",
       "      <td>NaN</td>\n",
       "      <td>0</td>\n",
       "    </tr>\n",
       "    <tr>\n",
       "      <th>3</th>\n",
       "      <td>4</td>\n",
       "      <td>Account Executive - Washington DC</td>\n",
       "      <td>US, DC, Washington</td>\n",
       "      <td>Sales</td>\n",
       "      <td>NaN</td>\n",
       "      <td>Our passion for improving quality of life thro...</td>\n",
       "      <td>THE COMPANY: ESRI – Environmental Systems Rese...</td>\n",
       "      <td>EDUCATION: Bachelor’s or Master’s in GIS, busi...</td>\n",
       "      <td>Our culture is anything but corporate—we have ...</td>\n",
       "      <td>0</td>\n",
       "      <td>1</td>\n",
       "      <td>0</td>\n",
       "      <td>Full-time</td>\n",
       "      <td>Mid-Senior level</td>\n",
       "      <td>Bachelor's Degree</td>\n",
       "      <td>Computer Software</td>\n",
       "      <td>Sales</td>\n",
       "      <td>0</td>\n",
       "    </tr>\n",
       "    <tr>\n",
       "      <th>4</th>\n",
       "      <td>5</td>\n",
       "      <td>Bill Review Manager</td>\n",
       "      <td>US, FL, Fort Worth</td>\n",
       "      <td>NaN</td>\n",
       "      <td>NaN</td>\n",
       "      <td>SpotSource Solutions LLC is a Global Human Cap...</td>\n",
       "      <td>JOB TITLE: Itemization Review ManagerLOCATION:...</td>\n",
       "      <td>QUALIFICATIONS:RN license in the State of Texa...</td>\n",
       "      <td>Full Benefits Offered</td>\n",
       "      <td>0</td>\n",
       "      <td>1</td>\n",
       "      <td>1</td>\n",
       "      <td>Full-time</td>\n",
       "      <td>Mid-Senior level</td>\n",
       "      <td>Bachelor's Degree</td>\n",
       "      <td>Hospital &amp; Health Care</td>\n",
       "      <td>Health Care Provider</td>\n",
       "      <td>0</td>\n",
       "    </tr>\n",
       "  </tbody>\n",
       "</table>\n",
       "</div>"
      ],
      "text/plain": [
       "   job_id                                      title            location  \\\n",
       "0       1                           Marketing Intern    US, NY, New York   \n",
       "1       2  Customer Service - Cloud Video Production      NZ, , Auckland   \n",
       "2       3    Commissioning Machinery Assistant (CMA)       US, IA, Wever   \n",
       "3       4          Account Executive - Washington DC  US, DC, Washington   \n",
       "4       5                        Bill Review Manager  US, FL, Fort Worth   \n",
       "\n",
       "  department salary_range                                    company_profile  \\\n",
       "0  Marketing          NaN  We're Food52, and we've created a groundbreaki...   \n",
       "1    Success          NaN  90 Seconds, the worlds Cloud Video Production ...   \n",
       "2        NaN          NaN  Valor Services provides Workforce Solutions th...   \n",
       "3      Sales          NaN  Our passion for improving quality of life thro...   \n",
       "4        NaN          NaN  SpotSource Solutions LLC is a Global Human Cap...   \n",
       "\n",
       "                                         description  \\\n",
       "0  Food52, a fast-growing, James Beard Award-winn...   \n",
       "1  Organised - Focused - Vibrant - Awesome!Do you...   \n",
       "2  Our client, located in Houston, is actively se...   \n",
       "3  THE COMPANY: ESRI – Environmental Systems Rese...   \n",
       "4  JOB TITLE: Itemization Review ManagerLOCATION:...   \n",
       "\n",
       "                                        requirements  \\\n",
       "0  Experience with content management systems a m...   \n",
       "1  What we expect from you:Your key responsibilit...   \n",
       "2  Implement pre-commissioning and commissioning ...   \n",
       "3  EDUCATION: Bachelor’s or Master’s in GIS, busi...   \n",
       "4  QUALIFICATIONS:RN license in the State of Texa...   \n",
       "\n",
       "                                            benefits  telecommuting  \\\n",
       "0                                                NaN              0   \n",
       "1  What you will get from usThrough being part of...              0   \n",
       "2                                                NaN              0   \n",
       "3  Our culture is anything but corporate—we have ...              0   \n",
       "4                              Full Benefits Offered              0   \n",
       "\n",
       "   has_company_logo  has_questions employment_type required_experience  \\\n",
       "0                 1              0           Other          Internship   \n",
       "1                 1              0       Full-time      Not Applicable   \n",
       "2                 1              0             NaN                 NaN   \n",
       "3                 1              0       Full-time    Mid-Senior level   \n",
       "4                 1              1       Full-time    Mid-Senior level   \n",
       "\n",
       "  required_education                   industry              function  \\\n",
       "0                NaN                        NaN             Marketing   \n",
       "1                NaN  Marketing and Advertising      Customer Service   \n",
       "2                NaN                        NaN                   NaN   \n",
       "3  Bachelor's Degree          Computer Software                 Sales   \n",
       "4  Bachelor's Degree     Hospital & Health Care  Health Care Provider   \n",
       "\n",
       "   fraudulent  \n",
       "0           0  \n",
       "1           0  \n",
       "2           0  \n",
       "3           0  \n",
       "4           0  "
      ]
     },
     "execution_count": 4,
     "metadata": {},
     "output_type": "execute_result"
    }
   ],
   "source": [
    "data.head()\n"
   ]
  },
  {
   "cell_type": "markdown",
   "metadata": {},
   "source": [
    "## Pre procesamiento de datos \n",
    "Debemos llevar a cabo nuevamente lo implementado en el TP n°1 con todo lo que respecta a la limpieza y pre procesamiento de los \n",
    "datos. "
   ]
  },
  {
   "cell_type": "code",
   "execution_count": 171,
   "metadata": {},
   "outputs": [],
   "source": [
    "#Rellenamos valores nulos por \"Desconocido\"\n",
    "categorias_columnas = ['employment_type', 'required_experience', 'required_education']\n",
    "for col in categorias_columnas:\n",
    "    data[col].fillna(\"unknown\", inplace=True)"
   ]
  },
  {
   "cell_type": "code",
   "execution_count": 172,
   "metadata": {},
   "outputs": [],
   "source": [
    "#Se eliminan las columnas que no consideramos importantes en la predicción.\n",
    "data = data.drop(['job_id', 'department', 'industry', 'function','salary_range'], axis=1)"
   ]
  },
  {
   "cell_type": "code",
   "execution_count": 173,
   "metadata": {
    "scrolled": true
   },
   "outputs": [],
   "source": [
    "txt_columnas = ['company_profile', 'description', 'requirements', 'benefits']\n",
    "\n",
    "data = data.dropna(subset=txt_columnas, how='all')\n",
    "\n",
    "for col in txt_columnas:\n",
    "    data[col].fillna('', inplace=True)\n"
   ]
  },
  {
   "cell_type": "markdown",
   "metadata": {},
   "source": [
    "### Feature engineering"
   ]
  },
  {
   "cell_type": "markdown",
   "metadata": {},
   "source": [
    "Como mencionamos en el trabajo práctico n°1 intentaremos determinar la vericidad de un anuncio de acuerdo a la cantidad de palabras que se encuentran en algunas de las variables de entrada de nuestro data set. Nuestra idea consiste en generar nuevas variables que contengan la cantidad de palabras contenidas en las features de cada uno de los artículos. \n",
    "Analizaremos mediante un gráfico la cantidad de palabras de las features: \"company_profile\", \"description\", \"requiriments\", \"benefits\", las cuales consideramos de mayor importancia a la hora de predecir. "
   ]
  },
  {
   "cell_type": "code",
   "execution_count": 174,
   "metadata": {},
   "outputs": [
    {
     "data": {
      "image/png": "[encoded data removed]",
      "text/plain": [
       "<Figure size 1200x250 with 2 Axes>"
      ]
     },
     "metadata": {
      "needs_background": "light"
     },
     "output_type": "display_data"
    },
    {
     "data": {
      "image/png": "[encoded data removed]",
      "text/plain": [
       "<Figure size 1200x250 with 2 Axes>"
      ]
     },
     "metadata": {
      "needs_background": "light"
     },
     "output_type": "display_data"
    },
    {
     "data": {
      "image/png": "[encoded data removed]",
      "text/plain": [
       "<Figure size 1200x250 with 2 Axes>"
      ]
     },
     "metadata": {
      "needs_background": "light"
     },
     "output_type": "display_data"
    },
    {
     "data": {
      "image/png": "[encoded data removed]",
      "text/plain": [
       "<Figure size 1200x250 with 2 Axes>"
      ]
     },
     "metadata": {
      "needs_background": "light"
     },
     "output_type": "display_data"
    },
    {
     "data": {
      "image/png": "[encoded data removed]",
      "text/plain": [
       "<Figure size 1200x250 with 2 Axes>"
      ]
     },
     "metadata": {
      "needs_background": "light"
     },
     "output_type": "display_data"
    }
   ],
   "source": [
    "columnas = ['title','company_profile', 'description', 'requirements', 'benefits']\n",
    "\n",
    "for columna in columnas:\n",
    "    fig,(ax1,ax2)= plt.subplots(ncols=2, figsize=(12, 2.5), dpi=100)\n",
    "    cantidadPalabrasFalsos=data[data.fraudulent==1][columna].str.split().map(lambda x: len(x))\n",
    "    ax1.set_ylabel('Cantidad anuncios', fontsize=12) #Descripcion eje y\n",
    "    ax1.set_xlabel('Cantidad palabras', fontsize=12) #Descripcion eje x\n",
    "    ax1.hist(cantidadPalabrasFalsos,bins = 20,color='orangered')\n",
    "    ax1.set_title('Falsos')\n",
    "   \n",
    "    cantidadPalabrasVerdaderos=data[data.fraudulent==0][columna].str.split().map(lambda x: len(x))\n",
    "    ax2.hist(cantidadPalabrasVerdaderos, bins = 20)\n",
    "    ax2.set_title('Verdaderos')\n",
    "    fig.suptitle(f'Palabras en \"{columna}\"')\n",
    "    ax2.set_ylabel('Cantidad anuncios', fontsize=12) #Descripcion eje y\n",
    "    ax2.set_xlabel('Cantidad palabras', fontsize=12) #Descripcion eje x"
   ]
  },
  {
   "cell_type": "markdown",
   "metadata": {},
   "source": [
    "De acuerdo a lo observado en las gráficas anteriores, se puede afirmar que un anuncio falso intentará parecerse lo más posible a uno que no lo es. Sin embargo, notamos  en las gráficas anteriores que hay algunas diferencias mínimas.\n",
    "\n",
    "Intentaremos predecir de acuerdo a la cantidad de palabras con las que cuenta cada anuncio en sus respectivas columnas mencionadas recientemente. Para esto, necesitamos crear nuevas features."
   ]
  },
  {
   "cell_type": "markdown",
   "metadata": {},
   "source": [
    "#### Crear features extrayendo información de otras features"
   ]
  },
  {
   "cell_type": "code",
   "execution_count": 175,
   "metadata": {
    "scrolled": true
   },
   "outputs": [],
   "source": [
    "#Sumamos la cantidad de palabras que tiene cada anuncion en : title, company_profile, description, requirements, benefits.\n",
    "#Colocamos la suma de cada una de las feature en una nueva columna denominada (nombreCol)_cantPalabras\n",
    "\n",
    "columnas = ['title','company_profile', 'description', 'requirements', 'benefits'] \n",
    "\n",
    "for columna in columnas:\n",
    "    cantidadPalabras=data[columna].str.split().map(lambda x: len(x))  #Cuento cantidad de palabras\n",
    "    cantidades = data[columna].str.count(' ')     #Cuento cantidad de espacios en cada casillero\n",
    "    data.insert(9, columna+\"_cantPalabras\", cantidadPalabras, allow_duplicates = False) #Inserta nueva columna _cantPalabras\n",
    "    data[columna+\"_cantPalabras\"].fillna('0', inplace=True) #Se reemplaza por 0 las filas NaN"
   ]
  },
  {
   "cell_type": "markdown",
   "metadata": {},
   "source": [
    "### Entrenamiento de modelos:"
   ]
  },
  {
   "cell_type": "code",
   "execution_count": 176,
   "metadata": {},
   "outputs": [],
   "source": [
    "# separamos los datos\n",
    "# 60% train, 20% test, 20% validation\n",
    "\n",
    "train, not_train = train_test_split(data, test_size=0.4, random_state=42)\n",
    "validation, test = train_test_split(not_train, test_size=0.5, random_state=42)"
   ]
  },
  {
   "cell_type": "code",
   "execution_count": 177,
   "metadata": {},
   "outputs": [],
   "source": [
    "from sklearn_pandas import DataFrameMapper\n",
    "from sklearn.preprocessing import StandardScaler, OneHotEncoder,LabelEncoder,LabelBinarizer\n",
    "from sklearn.feature_extraction.text import CountVectorizer\n",
    "from sklearn import metrics\n",
    "from sklearn.linear_model import LogisticRegression\n",
    "from sklearn.experimental import enable_iterative_imputer \n",
    "from sklearn.impute import SimpleImputer, IterativeImputer\n",
    "from sklearn.pipeline import Pipeline\n"
   ]
  },
  {
   "cell_type": "code",
   "execution_count": 178,
   "metadata": {},
   "outputs": [
    {
     "data": {
      "text/plain": [
       "'Sample transformado con mean'"
      ]
     },
     "metadata": {},
     "output_type": "display_data"
    },
    {
     "data": {
      "text/plain": [
       "array([[-0.3678266 ,  0.92554828, -0.0865315 ,  0.38678274,  0.75721771],\n",
       "       [-0.8564552 ,  0.04066699,  2.05432753,  1.99269146, -0.60173069],\n",
       "       [-0.3678266 ,  0.43653494, -0.37627182,  0.85261886, -0.60173069],\n",
       "       [ 0.6094306 ,  0.05231017,  2.71429159, -0.96169024, -0.60173069],\n",
       "       [ 0.6094306 , -1.08872097,  6.51310911, -0.96169024, -0.60173069]])"
      ]
     },
     "metadata": {},
     "output_type": "display_data"
    }
   ],
   "source": [
    "sample = train.sample(5, random_state=42)\n",
    "complete_mapper = DataFrameMapper([\n",
    "    (['title_cantPalabras'], [StandardScaler()]),\n",
    "    (['company_profile_cantPalabras'], [StandardScaler()]),\n",
    "    (['description_cantPalabras'], [StandardScaler()]),\n",
    "    (['requirements_cantPalabras'], [StandardScaler()]),\n",
    "    (['benefits_cantPalabras'], [StandardScaler()]),\n",
    "    \n",
    "])\n",
    "\n",
    "complete_mapper.fit(train)\n",
    "\n",
    "display('Sample transformado con mean')\n",
    "display(complete_mapper.transform(sample))"
   ]
  },
  {
   "cell_type": "code",
   "execution_count": 179,
   "metadata": {},
   "outputs": [],
   "source": [
    "def evaluate_model(model, set_names=('train', 'test'), title='', show_cm=True):\n",
    "    if title:\n",
    "        display(title)\n",
    "    final_metrics = defaultdict(list)\n",
    "    if show_cm:\n",
    "        fig, axis = plt.subplots(1, len(set_names), sharey=True, figsize=(15, 3))\n",
    "    \n",
    "    for i, set_name in enumerate(set_names):\n",
    "        assert set_name in ['train', 'test', 'validation']\n",
    "        set_data = globals()[set_name] # <- hack feo...\n",
    "\n",
    "        y =set_data.fraudulent\n",
    "        y_pred = model.predict(set_data)\n",
    "        final_metrics['Accuracy'].append(metrics.accuracy_score(y, y_pred))\n",
    "        final_metrics['Precision'].append(metrics.precision_score(y, y_pred))\n",
    "        final_metrics['Recall'].append(metrics.recall_score(y, y_pred))\n",
    "        final_metrics['F1'].append(metrics.f1_score(y, y_pred))\n",
    "        \n",
    "        if show_cm:\n",
    "            ax = axis[i]\n",
    "            sns.heatmap(metrics.confusion_matrix(y, y_pred), ax=ax, cmap='Blues', annot=True, fmt='.0f', cbar=False)\n",
    "\n",
    "            ax.set_title(set_name)\n",
    "            ax.xaxis.set_ticklabels(['verdadero', 'falso'])\n",
    "            ax.yaxis.set_ticklabels(['verdadero', 'falso'])\n",
    "            ax.set_xlabel('Predicted class')\n",
    "            ax.set_ylabel('True class')\n",
    "\n",
    "        \n",
    "    display(pd.DataFrame(final_metrics, index=set_names))\n",
    "    if show_cm:\n",
    "        plt.tight_layout()\n",
    "        plt.show()"
   ]
  },
  {
   "cell_type": "markdown",
   "metadata": {},
   "source": [
    "## Modelo n°1: LogisticRegression"
   ]
  },
  {
   "cell_type": "markdown",
   "metadata": {},
   "source": [
    "Comenzamos con este modelo ya que es el mas fácil de comprender."
   ]
  },
  {
   "cell_type": "code",
   "execution_count": 180,
   "metadata": {},
   "outputs": [
    {
     "data": {
      "text/plain": [
       "array([0, 0, 0, ..., 0, 0, 0], dtype=int64)"
      ]
     },
     "execution_count": 180,
     "metadata": {},
     "output_type": "execute_result"
    }
   ],
   "source": [
    "lr_model_si = Pipeline([\n",
    "    ('mapper', complete_mapper),\n",
    "    ('imputer', SimpleImputer(strategy='mean')),\n",
    "    ('classifier', LogisticRegression(random_state=42)),\n",
    "])\n",
    "\n",
    "lr_model_si.fit(train, train.fraudulent)\n",
    "\n",
    "y_pred = lr_model_si.predict(train)\n",
    "\n",
    "y_pred"
   ]
  },
  {
   "cell_type": "code",
   "execution_count": 181,
   "metadata": {
    "scrolled": false
   },
   "outputs": [
    {
     "data": {
      "text/html": [
       "<div>\n",
       "<style scoped>\n",
       "    .dataframe tbody tr th:only-of-type {\n",
       "        vertical-align: middle;\n",
       "    }\n",
       "\n",
       "    .dataframe tbody tr th {\n",
       "        vertical-align: top;\n",
       "    }\n",
       "\n",
       "    .dataframe thead th {\n",
       "        text-align: right;\n",
       "    }\n",
       "</style>\n",
       "<table border=\"1\" class=\"dataframe\">\n",
       "  <thead>\n",
       "    <tr style=\"text-align: right;\">\n",
       "      <th></th>\n",
       "      <th>Accuracy</th>\n",
       "      <th>Precision</th>\n",
       "      <th>Recall</th>\n",
       "      <th>F1</th>\n",
       "    </tr>\n",
       "  </thead>\n",
       "  <tbody>\n",
       "    <tr>\n",
       "      <th>train</th>\n",
       "      <td>0.951711</td>\n",
       "      <td>0.0</td>\n",
       "      <td>0.0</td>\n",
       "      <td>0.0</td>\n",
       "    </tr>\n",
       "    <tr>\n",
       "      <th>test</th>\n",
       "      <td>0.949385</td>\n",
       "      <td>0.0</td>\n",
       "      <td>0.0</td>\n",
       "      <td>0.0</td>\n",
       "    </tr>\n",
       "  </tbody>\n",
       "</table>\n",
       "</div>"
      ],
      "text/plain": [
       "       Accuracy  Precision  Recall   F1\n",
       "train  0.951711        0.0     0.0  0.0\n",
       "test   0.949385        0.0     0.0  0.0"
      ]
     },
     "metadata": {},
     "output_type": "display_data"
    },
    {
     "data": {
      "image/png": "[encoded data removed]",
      "text/plain": [
       "<Figure size 1080x216 with 2 Axes>"
      ]
     },
     "metadata": {
      "needs_background": "light"
     },
     "output_type": "display_data"
    }
   ],
   "source": [
    "evaluate_model(lr_model_si)"
   ]
  },
  {
   "cell_type": "markdown",
   "metadata": {},
   "source": [
    "### Análisis de resultados LogisticRegression"
   ]
  },
  {
   "cell_type": "markdown",
   "metadata": {},
   "source": [
    "De acuerdo a lo observado, podemos concluir con que este modelo no es el apropiado para nuestro caso ya que no es linealmente divisibe, esto queda demostrado por los bajos valores que expresan las metricas seleccionadas. Accuracy no debe ser tenido en cuenta debido a que estamos trabajando con un dataset muy desbalanceado."
   ]
  },
  {
   "cell_type": "markdown",
   "metadata": {},
   "source": [
    "## Modelo n°2: Random Forest"
   ]
  },
  {
   "cell_type": "markdown",
   "metadata": {},
   "source": [
    "Sin obtener resultados aceptables en el modelo anterior, decidimos continuar con la misma idea, intentar realizar predicciones de acuerdo a la cantidad de palabras presentes en las mismas columnas ya mencionadas, pero esta vez probando con **Random Forest**.\n"
   ]
  },
  {
   "cell_type": "code",
   "execution_count": 182,
   "metadata": {},
   "outputs": [
    {
     "data": {
      "text/plain": [
       "'Random Forest'"
      ]
     },
     "metadata": {},
     "output_type": "display_data"
    },
    {
     "data": {
      "text/html": [
       "<div>\n",
       "<style scoped>\n",
       "    .dataframe tbody tr th:only-of-type {\n",
       "        vertical-align: middle;\n",
       "    }\n",
       "\n",
       "    .dataframe tbody tr th {\n",
       "        vertical-align: top;\n",
       "    }\n",
       "\n",
       "    .dataframe thead th {\n",
       "        text-align: right;\n",
       "    }\n",
       "</style>\n",
       "<table border=\"1\" class=\"dataframe\">\n",
       "  <thead>\n",
       "    <tr style=\"text-align: right;\">\n",
       "      <th></th>\n",
       "      <th>Accuracy</th>\n",
       "      <th>Precision</th>\n",
       "      <th>Recall</th>\n",
       "      <th>F1</th>\n",
       "    </tr>\n",
       "  </thead>\n",
       "  <tbody>\n",
       "    <tr>\n",
       "      <th>train</th>\n",
       "      <td>0.998881</td>\n",
       "      <td>0.998028</td>\n",
       "      <td>0.978723</td>\n",
       "      <td>0.988281</td>\n",
       "    </tr>\n",
       "    <tr>\n",
       "      <th>test</th>\n",
       "      <td>0.967562</td>\n",
       "      <td>0.847826</td>\n",
       "      <td>0.433333</td>\n",
       "      <td>0.573529</td>\n",
       "    </tr>\n",
       "  </tbody>\n",
       "</table>\n",
       "</div>"
      ],
      "text/plain": [
       "       Accuracy  Precision    Recall        F1\n",
       "train  0.998881   0.998028  0.978723  0.988281\n",
       "test   0.967562   0.847826  0.433333  0.573529"
      ]
     },
     "metadata": {},
     "output_type": "display_data"
    },
    {
     "data": {
      "image/png": "[encoded data removed]",
      "text/plain": [
       "<Figure size 1080x216 with 2 Axes>"
      ]
     },
     "metadata": {
      "needs_background": "light"
     },
     "output_type": "display_data"
    }
   ],
   "source": [
    "random_forest_model = Pipeline([\n",
    "    ('mapper', complete_mapper),\n",
    "    ('imputer', IterativeImputer(random_state=42)),\n",
    "    ('classifier', RandomForestClassifier()),\n",
    "])\n",
    "\n",
    "random_forest_model.fit(train, train.fraudulent)\n",
    "\n",
    "evaluate_model(random_forest_model, title='Random Forest')"
   ]
  },
  {
   "cell_type": "markdown",
   "metadata": {},
   "source": [
    "Podemos observar a simple vista, que los resultados obtenidos son muucho mejor que en el modelo anterior. Sin embargo, observando las métricas detalladas, nos damos cuenta que existe un sobreentramiento. Es por esto, que necesitamos hacer algún cambio en los hiperparámetros."
   ]
  },
  {
   "cell_type": "markdown",
   "metadata": {},
   "source": [
    "\n"
   ]
  },
  {
   "cell_type": "code",
   "execution_count": 183,
   "metadata": {
    "scrolled": true
   },
   "outputs": [
    {
     "data": {
      "text/plain": [
       "'Random Forest'"
      ]
     },
     "metadata": {},
     "output_type": "display_data"
    },
    {
     "data": {
      "text/html": [
       "<div>\n",
       "<style scoped>\n",
       "    .dataframe tbody tr th:only-of-type {\n",
       "        vertical-align: middle;\n",
       "    }\n",
       "\n",
       "    .dataframe tbody tr th {\n",
       "        vertical-align: top;\n",
       "    }\n",
       "\n",
       "    .dataframe thead th {\n",
       "        text-align: right;\n",
       "    }\n",
       "</style>\n",
       "<table border=\"1\" class=\"dataframe\">\n",
       "  <thead>\n",
       "    <tr style=\"text-align: right;\">\n",
       "      <th></th>\n",
       "      <th>Accuracy</th>\n",
       "      <th>Precision</th>\n",
       "      <th>Recall</th>\n",
       "      <th>F1</th>\n",
       "    </tr>\n",
       "  </thead>\n",
       "  <tbody>\n",
       "    <tr>\n",
       "      <th>train</th>\n",
       "      <td>0.974271</td>\n",
       "      <td>0.995885</td>\n",
       "      <td>0.468085</td>\n",
       "      <td>0.636842</td>\n",
       "    </tr>\n",
       "    <tr>\n",
       "      <th>test</th>\n",
       "      <td>0.965324</td>\n",
       "      <td>0.951613</td>\n",
       "      <td>0.327778</td>\n",
       "      <td>0.487603</td>\n",
       "    </tr>\n",
       "  </tbody>\n",
       "</table>\n",
       "</div>"
      ],
      "text/plain": [
       "       Accuracy  Precision    Recall        F1\n",
       "train  0.974271   0.995885  0.468085  0.636842\n",
       "test   0.965324   0.951613  0.327778  0.487603"
      ]
     },
     "metadata": {},
     "output_type": "display_data"
    },
    {
     "data": {
      "image/png": "[encoded data removed]",
      "text/plain": [
       "<Figure size 1080x216 with 2 Axes>"
      ]
     },
     "metadata": {
      "needs_background": "light"
     },
     "output_type": "display_data"
    }
   ],
   "source": [
    "#Limitando la profundidad del árbol, logramos tener un mejor resultado, logrando que el modelo no esté sobreentrenado. \n",
    "random_forest_model = Pipeline([\n",
    "    ('mapper', complete_mapper),\n",
    "    ('imputer', IterativeImputer(random_state=42)),\n",
    "    ('classifier', RandomForestClassifier(max_depth=12, n_estimators= 100)),\n",
    "])\n",
    "\n",
    "random_forest_model.fit(train, train.fraudulent)\n",
    "\n",
    "evaluate_model(random_forest_model, title='Random Forest')"
   ]
  },
  {
   "cell_type": "code",
   "execution_count": 184,
   "metadata": {},
   "outputs": [
    {
     "data": {
      "text/plain": [
       "'Random Forest'"
      ]
     },
     "metadata": {},
     "output_type": "display_data"
    },
    {
     "data": {
      "text/html": [
       "<div>\n",
       "<style scoped>\n",
       "    .dataframe tbody tr th:only-of-type {\n",
       "        vertical-align: middle;\n",
       "    }\n",
       "\n",
       "    .dataframe tbody tr th {\n",
       "        vertical-align: top;\n",
       "    }\n",
       "\n",
       "    .dataframe thead th {\n",
       "        text-align: right;\n",
       "    }\n",
       "</style>\n",
       "<table border=\"1\" class=\"dataframe\">\n",
       "  <thead>\n",
       "    <tr style=\"text-align: right;\">\n",
       "      <th></th>\n",
       "      <th>Accuracy</th>\n",
       "      <th>Precision</th>\n",
       "      <th>Recall</th>\n",
       "      <th>F1</th>\n",
       "    </tr>\n",
       "  </thead>\n",
       "  <tbody>\n",
       "    <tr>\n",
       "      <th>train</th>\n",
       "      <td>0.974271</td>\n",
       "      <td>0.995885</td>\n",
       "      <td>0.468085</td>\n",
       "      <td>0.636842</td>\n",
       "    </tr>\n",
       "    <tr>\n",
       "      <th>test</th>\n",
       "      <td>0.965324</td>\n",
       "      <td>0.951613</td>\n",
       "      <td>0.327778</td>\n",
       "      <td>0.487603</td>\n",
       "    </tr>\n",
       "    <tr>\n",
       "      <th>validation</th>\n",
       "      <td>0.963926</td>\n",
       "      <td>0.882353</td>\n",
       "      <td>0.267857</td>\n",
       "      <td>0.410959</td>\n",
       "    </tr>\n",
       "  </tbody>\n",
       "</table>\n",
       "</div>"
      ],
      "text/plain": [
       "            Accuracy  Precision    Recall        F1\n",
       "train       0.974271   0.995885  0.468085  0.636842\n",
       "test        0.965324   0.951613  0.327778  0.487603\n",
       "validation  0.963926   0.882353  0.267857  0.410959"
      ]
     },
     "metadata": {},
     "output_type": "display_data"
    }
   ],
   "source": [
    "evaluate_model(random_forest_model, title='Random Forest', set_names=('train', 'test', 'validation'), show_cm=False)"
   ]
  },
  {
   "cell_type": "markdown",
   "metadata": {},
   "source": [
    "Los resultados siguen sin ser los esperados, por ende, comenzaremos a manejar la idea de poder predecir de acuerdo al análisis de texto"
   ]
  },
  {
   "cell_type": "markdown",
   "metadata": {},
   "source": [
    "#### Crear features extrayendo información de otras features"
   ]
  },
  {
   "cell_type": "code",
   "execution_count": 5,
   "metadata": {},
   "outputs": [],
   "source": [
    "#lectura nuevamente del dataset\n",
    "data = pd.read_csv(\"./fake_job_postings.csv\")\n"
   ]
  },
  {
   "cell_type": "code",
   "execution_count": 186,
   "metadata": {},
   "outputs": [],
   "source": [
    "#reemplazamos nulls en ciertas columnas por espacios en blanco.\n",
    "txt_columnas = ['company_profile', 'description', 'requirements', 'benefits']\n",
    "\n",
    "data = data.dropna(subset=txt_columnas, how='all')\n",
    "\n",
    "for col in txt_columnas:\n",
    "    data[col].fillna('unknown', inplace=True)"
   ]
  },
  {
   "cell_type": "code",
   "execution_count": 187,
   "metadata": {},
   "outputs": [
    {
     "data": {
      "text/html": [
       "<div>\n",
       "<style scoped>\n",
       "    .dataframe tbody tr th:only-of-type {\n",
       "        vertical-align: middle;\n",
       "    }\n",
       "\n",
       "    .dataframe tbody tr th {\n",
       "        vertical-align: top;\n",
       "    }\n",
       "\n",
       "    .dataframe thead th {\n",
       "        text-align: right;\n",
       "    }\n",
       "</style>\n",
       "<table border=\"1\" class=\"dataframe\">\n",
       "  <thead>\n",
       "    <tr style=\"text-align: right;\">\n",
       "      <th></th>\n",
       "      <th>fraudulent</th>\n",
       "      <th>text_combine</th>\n",
       "    </tr>\n",
       "  </thead>\n",
       "  <tbody>\n",
       "    <tr>\n",
       "      <th>0</th>\n",
       "      <td>0</td>\n",
       "      <td>We're Food52, and we've created a groundbreaki...</td>\n",
       "    </tr>\n",
       "    <tr>\n",
       "      <th>1</th>\n",
       "      <td>0</td>\n",
       "      <td>90 Seconds, the worlds Cloud Video Production ...</td>\n",
       "    </tr>\n",
       "    <tr>\n",
       "      <th>2</th>\n",
       "      <td>0</td>\n",
       "      <td>Valor Services provides Workforce Solutions th...</td>\n",
       "    </tr>\n",
       "    <tr>\n",
       "      <th>3</th>\n",
       "      <td>0</td>\n",
       "      <td>Our passion for improving quality of life thro...</td>\n",
       "    </tr>\n",
       "    <tr>\n",
       "      <th>4</th>\n",
       "      <td>0</td>\n",
       "      <td>SpotSource Solutions LLC is a Global Human Cap...</td>\n",
       "    </tr>\n",
       "  </tbody>\n",
       "</table>\n",
       "</div>"
      ],
      "text/plain": [
       "   fraudulent                                       text_combine\n",
       "0           0  We're Food52, and we've created a groundbreaki...\n",
       "1           0  90 Seconds, the worlds Cloud Video Production ...\n",
       "2           0  Valor Services provides Workforce Solutions th...\n",
       "3           0  Our passion for improving quality of life thro...\n",
       "4           0  SpotSource Solutions LLC is a Global Human Cap..."
      ]
     },
     "execution_count": 187,
     "metadata": {},
     "output_type": "execute_result"
    }
   ],
   "source": [
    "#unimos el texto de ciertas columnas en una sola.\n",
    "columnas = ['company_profile', 'description', 'requirements', 'benefits']\n",
    "\n",
    "data['text_combine'] = data[columnas].apply(lambda x: ' '.join(x), axis=1)\n",
    "\n",
    "#eliminamos el resto de las columnas que no nos interesan\n",
    "data = data.drop(['job_id', 'department', 'industry', 'function','salary_range','description','company_profile','requirements'\n",
    "                 ,'benefits','title','location','telecommuting','has_company_logo','employment_type','required_experience',\n",
    "                 'required_education','has_questions'], axis=1)\n",
    "\n",
    "data.head()\n",
    "\n"
   ]
  },
  {
   "cell_type": "markdown",
   "metadata": {},
   "source": [
    "La idea consiste en generar una nueva columna a partir de los textos de las otras variables de entrada.\n",
    "El contenido de las variables que añadiremos en una nueva columna son: **\"title\", \"company_profile\", \"description\" , \"benefits\", \"requirements\"**."
   ]
  },
  {
   "cell_type": "markdown",
   "metadata": {},
   "source": [
    "### Procesamiento de la nueva feature"
   ]
  },
  {
   "cell_type": "markdown",
   "metadata": {},
   "source": [
    "Luego de generar la nueva feature será necesario realizar algunos cambios en las mismas. \n",
    "Para comenzar, sabemos que la mayoría de los anuncios están en inglés, por ende, comenzaremos a eliminar aquellos anuncios que tengan otro idioma que no sea el inglés."
   ]
  },
  {
   "cell_type": "code",
   "execution_count": 188,
   "metadata": {},
   "outputs": [],
   "source": [
    "import langid"
   ]
  },
  {
   "cell_type": "code",
   "execution_count": 189,
   "metadata": {
    "scrolled": true
   },
   "outputs": [
    {
     "data": {
      "text/html": [
       "<div>\n",
       "<style scoped>\n",
       "    .dataframe tbody tr th:only-of-type {\n",
       "        vertical-align: middle;\n",
       "    }\n",
       "\n",
       "    .dataframe tbody tr th {\n",
       "        vertical-align: top;\n",
       "    }\n",
       "\n",
       "    .dataframe thead th {\n",
       "        text-align: right;\n",
       "    }\n",
       "</style>\n",
       "<table border=\"1\" class=\"dataframe\">\n",
       "  <thead>\n",
       "    <tr style=\"text-align: right;\">\n",
       "      <th></th>\n",
       "      <th>fraudulent</th>\n",
       "      <th>text_combine</th>\n",
       "    </tr>\n",
       "  </thead>\n",
       "  <tbody>\n",
       "    <tr>\n",
       "      <th>0</th>\n",
       "      <td>0</td>\n",
       "      <td>We're Food52, and we've created a groundbreaki...</td>\n",
       "    </tr>\n",
       "    <tr>\n",
       "      <th>1</th>\n",
       "      <td>0</td>\n",
       "      <td>90 Seconds, the worlds Cloud Video Production ...</td>\n",
       "    </tr>\n",
       "    <tr>\n",
       "      <th>2</th>\n",
       "      <td>0</td>\n",
       "      <td>Valor Services provides Workforce Solutions th...</td>\n",
       "    </tr>\n",
       "    <tr>\n",
       "      <th>3</th>\n",
       "      <td>0</td>\n",
       "      <td>Our passion for improving quality of life thro...</td>\n",
       "    </tr>\n",
       "    <tr>\n",
       "      <th>4</th>\n",
       "      <td>0</td>\n",
       "      <td>SpotSource Solutions LLC is a Global Human Cap...</td>\n",
       "    </tr>\n",
       "  </tbody>\n",
       "</table>\n",
       "</div>"
      ],
      "text/plain": [
       "   fraudulent                                       text_combine\n",
       "0           0  We're Food52, and we've created a groundbreaki...\n",
       "1           0  90 Seconds, the worlds Cloud Video Production ...\n",
       "2           0  Valor Services provides Workforce Solutions th...\n",
       "3           0  Our passion for improving quality of life thro...\n",
       "4           0  SpotSource Solutions LLC is a Global Human Cap..."
      ]
     },
     "execution_count": 189,
     "metadata": {},
     "output_type": "execute_result"
    }
   ],
   "source": [
    "def detectar_lenguaje(texto):\n",
    "    codigo,_ = langid.classify(texto)\n",
    "    \n",
    "    return codigo\n",
    "\n",
    "data = data[data['text_combine'].apply(lambda x: detectar_lenguaje(x) == 'en')]\n",
    "\n",
    "data.head()"
   ]
  },
  {
   "cell_type": "code",
   "execution_count": 190,
   "metadata": {},
   "outputs": [
    {
     "data": {
      "text/plain": [
       "fraudulent      17700\n",
       "text_combine    17700\n",
       "dtype: int64"
      ]
     },
     "execution_count": 190,
     "metadata": {},
     "output_type": "execute_result"
    }
   ],
   "source": [
    "##consultamos la cantidad de filas que se eliminaron por no tener la columna \"text_combine\" en idioma inglés.\n",
    "data.count()"
   ]
  },
  {
   "cell_type": "markdown",
   "metadata": {},
   "source": [
    "Luego, lo que haremos es pasar todas palabras de la columna con la cual trabajaremos a letra minúscula con el fin de que las palabras en mayúscula no tengan más peso que las demás.\n",
    "\n",
    "Por otro lado, eliminaremos saltos de líneas, signos de puntuación. "
   ]
  },
  {
   "cell_type": "code",
   "execution_count": 191,
   "metadata": {
    "scrolled": true
   },
   "outputs": [
    {
     "data": {
      "text/html": [
       "<div>\n",
       "<style scoped>\n",
       "    .dataframe tbody tr th:only-of-type {\n",
       "        vertical-align: middle;\n",
       "    }\n",
       "\n",
       "    .dataframe tbody tr th {\n",
       "        vertical-align: top;\n",
       "    }\n",
       "\n",
       "    .dataframe thead th {\n",
       "        text-align: right;\n",
       "    }\n",
       "</style>\n",
       "<table border=\"1\" class=\"dataframe\">\n",
       "  <thead>\n",
       "    <tr style=\"text-align: right;\">\n",
       "      <th></th>\n",
       "      <th>fraudulent</th>\n",
       "      <th>text_combine</th>\n",
       "    </tr>\n",
       "  </thead>\n",
       "  <tbody>\n",
       "    <tr>\n",
       "      <th>0</th>\n",
       "      <td>0</td>\n",
       "      <td>were food52 and weve created a groundbreaking ...</td>\n",
       "    </tr>\n",
       "    <tr>\n",
       "      <th>1</th>\n",
       "      <td>0</td>\n",
       "      <td>90 seconds the worlds cloud video production s...</td>\n",
       "    </tr>\n",
       "    <tr>\n",
       "      <th>2</th>\n",
       "      <td>0</td>\n",
       "      <td>valor services provides workforce solutions th...</td>\n",
       "    </tr>\n",
       "    <tr>\n",
       "      <th>3</th>\n",
       "      <td>0</td>\n",
       "      <td>our passion for improving quality of life thro...</td>\n",
       "    </tr>\n",
       "    <tr>\n",
       "      <th>4</th>\n",
       "      <td>0</td>\n",
       "      <td>spotsource solutions llc is a global human cap...</td>\n",
       "    </tr>\n",
       "  </tbody>\n",
       "</table>\n",
       "</div>"
      ],
      "text/plain": [
       "   fraudulent                                       text_combine\n",
       "0           0  were food52 and weve created a groundbreaking ...\n",
       "1           0  90 seconds the worlds cloud video production s...\n",
       "2           0  valor services provides workforce solutions th...\n",
       "3           0  our passion for improving quality of life thro...\n",
       "4           0  spotsource solutions llc is a global human cap..."
      ]
     },
     "execution_count": 191,
     "metadata": {},
     "output_type": "execute_result"
    }
   ],
   "source": [
    "#Limpiar texto\n",
    "\n",
    "import string, re\n",
    "\n",
    "def prepararTexto(texto):\n",
    "    texto = texto.lower()                                               # Convertir el texto en minuscula\n",
    "    texto = texto.replace('\\n', ' ').replace('\\r', '')                  # Eliminar saltos de linea\n",
    "    texto = texto.replace(\" ()\",\"\")                                     # Eliminar texto en parentesis\n",
    "    texto = re.sub('[%s]' % re.escape(string.punctuation), '', texto)   # Eliminar signos de puntuacion\n",
    "    return texto\n",
    "\n",
    "data['text_combine'] = data['text_combine'].apply(lambda x: prepararTexto(x))\n",
    "\n",
    "data.head()"
   ]
  },
  {
   "cell_type": "markdown",
   "metadata": {},
   "source": [
    "Comenzaremos a utilizar algoritmos de procesamiento de texto vistos en clase"
   ]
  },
  {
   "cell_type": "code",
   "execution_count": 192,
   "metadata": {},
   "outputs": [],
   "source": [
    "from sklearn.model_selection import train_test_split\n",
    "from sklearn.feature_extraction.text import CountVectorizer\n",
    "from sklearn.metrics import plot_confusion_matrix\n",
    "\n",
    "#Separamos los datos con los cuales vamos a trabajar. \n",
    "dt_x = data['text_combine']\n",
    "dt_y = data['fraudulent']\n",
    "\n",
    "cvPrueba= CountVectorizer()\n",
    "\n",
    "# separamos los datos de entrenamiento y test\n",
    "x_train, x_test, y_train,y_test= train_test_split(dt_x,dt_y, test_size=0.4, random_state=42)\n",
    "\n",
    "\n",
    "resultado = cvPrueba.fit_transform([\"Hola, esto es una prueba\", \"Hola, esto no es una prueba\"])\n"
   ]
  },
  {
   "cell_type": "markdown",
   "metadata": {},
   "source": [
    "Como se ven los datos transformados con CountVectorizer:"
   ]
  },
  {
   "cell_type": "code",
   "execution_count": 193,
   "metadata": {},
   "outputs": [
    {
     "data": {
      "text/plain": [
       "array([[1, 1, 1, 0, 1, 1],\n",
       "       [1, 1, 1, 1, 1, 1]], dtype=int64)"
      ]
     },
     "execution_count": 193,
     "metadata": {},
     "output_type": "execute_result"
    }
   ],
   "source": [
    "resultado.toarray()"
   ]
  },
  {
   "cell_type": "markdown",
   "metadata": {},
   "source": [
    "Si queremos observar cuales son las palabras transformadas:\n"
   ]
  },
  {
   "cell_type": "code",
   "execution_count": 194,
   "metadata": {},
   "outputs": [
    {
     "data": {
      "text/plain": [
       "['es', 'esto', 'hola', 'no', 'prueba', 'una']"
      ]
     },
     "execution_count": 194,
     "metadata": {},
     "output_type": "execute_result"
    }
   ],
   "source": [
    "cvPrueba.get_feature_names()"
   ]
  },
  {
   "cell_type": "markdown",
   "metadata": {},
   "source": [
    "## Modelo n° 3: KNeighbors"
   ]
  },
  {
   "cell_type": "code",
   "execution_count": 195,
   "metadata": {},
   "outputs": [
    {
     "name": "stdout",
     "output_type": "stream",
     "text": [
      "##MÉTRICAS##\n",
      "Random Forest Accuracy: 0.9682203389830508\n",
      "Random Forest Recall: 0.5887323943661972\n",
      "Random Forest Pressicion: 0.7256944444444444\n",
      "Random Forest F1: 0.6500777604976673\n"
     ]
    },
    {
     "data": {
      "text/plain": [
       "<sklearn.metrics._plot.confusion_matrix.ConfusionMatrixDisplay at 0x21123c75cc8>"
      ]
     },
     "execution_count": 195,
     "metadata": {},
     "output_type": "execute_result"
    },
    {
     "data": {
      "image/png": "[encoded data removed]",
      "text/plain": [
       "<Figure size 432x288 with 2 Axes>"
      ]
     },
     "metadata": {
      "needs_background": "light"
     },
     "output_type": "display_data"
    }
   ],
   "source": [
    "from sklearn.model_selection import train_test_split\n",
    "from sklearn.feature_extraction.text import CountVectorizer\n",
    "\n",
    "knn = KNeighborsClassifier(n_neighbors=5)\n",
    "\n",
    "\n",
    "#Separamos los datos\n",
    "dt_x = data['text_combine']\n",
    "dt_y = data['fraudulent']\n",
    "\n",
    "cv = CountVectorizer()\n",
    "\n",
    "# proporcionamos datos que utilizaremos en train y test. \n",
    "x_train, x_test, y_train,y_test= train_test_split(dt_x,dt_y, test_size=0.4, random_state=42)\n",
    "\n",
    "#comparamos\n",
    "\n",
    "knn_model = Pipeline([('vectorizer', cv),\n",
    "                 ('classifier', knn)])\n",
    "\n",
    "#entrenamos\n",
    "knn_model.fit(x_train,y_train)\n",
    "\n",
    "#prediccion=\n",
    "predicted = knn_model.predict(x_test)\n",
    "\n",
    "# Model Accuracy\n",
    "print('##MÉTRICAS##')\n",
    "print(\"Random Forest Accuracy:\", accuracy_score(y_test, predicted))\n",
    "print(\"Random Forest Recall:\", recall_score(y_test, predicted))\n",
    "print(\"Random Forest Pressicion:\", precision_score(y_test, predicted))\n",
    "print(\"Random Forest F1:\", f1_score(y_test, predicted))\n",
    "\n",
    "\n",
    "plot_confusion_matrix(knn_model, x_test, y_test, cmap='Blues', values_format=' ')\n"
   ]
  },
  {
   "cell_type": "markdown",
   "metadata": {},
   "source": [
    "## Técnica para garantizar que los modelos no sobreentrenen"
   ]
  },
  {
   "cell_type": "markdown",
   "metadata": {},
   "source": [
    "Para garantizar que los modelos no sobreentrenen decidimos utilizar como métrica la matriz de confusión, la cual nos permite comparar de manera visual los resultados obtenidos en train y test."
   ]
  },
  {
   "cell_type": "markdown",
   "metadata": {},
   "source": [
    "## Informar al cliente:"
   ]
  },
  {
   "cell_type": "markdown",
   "metadata": {},
   "source": [
    "El valor final de la métrica es: 0.65, esto indica una ponderación entre la cantidad de falsos positivos que estamos dispuestos a aceptar y la probabilidad de que no se nos escape un caso positivo. \n",
    "\n",
    "Al cliente podemos decirle que tenemos una certeza de predicción aproximada al 60% al decir si un anuncio es real o fake. \n",
    "Sin embargo, consideramos que dicha predicción es muy pequeña y aún no es suficiente para poder trabajar con ella en un ámbito que no perteneza a la prueba, ya que sería demasiado riesgoso. \n"
   ]
  },
  {
   "cell_type": "markdown",
   "metadata": {},
   "source": [
    "## Conclusiones:"
   ]
  },
  {
   "cell_type": "markdown",
   "metadata": {},
   "source": [
    "Nuestra idea principal siempre fue poder predecir de acuerdo a la cantidad de palabras de ciertas variables de entrada, sin embargo, luego de probar dos algoritmos distintos, nos dimos cuenta, que la manera de enfrentar este tipo de problemas, iba más hacia el lado del análisis de texto. \n",
    "\n",
    "**¿Por qué consideramos que fallaron tanto el modelo de Logistic Regression como Random Forest?**\n",
    "Consideramos que la causa principal eran las variables que estábamos utilizando para predecir. Los datos que estábamos utilizando, no eran lo suficientemente útiles para que el modelo pueda aprender a diferenciar ambos anuncios, ya que como aclaramos en un principio, los \"fake\" en cuanto a la cantidad de palabras de sus textos eran muy similares a los reales. \n",
    "\n",
    "**Resultados de Logistic Regression:** \n",
    "De acuerdo a lo observado, podemos concluir con que este modelo no es el apropiado para nuestro caso ya que no es linealmente divisibe, esto queda demostrado por los bajos valores que expresan las metricas seleccionadas. Accuracy no debe ser tenido en cuenta debido a que estamos trabajando con un dataset muy desbalanceado.\n",
    "\n",
    "**Random Forest:**\n",
    "En este caso, el modelo estaba sobreentrenado, lo que provocaba que luego al momento de evaluar como se comportaba con los datos de \"test\" obtenia muy malos resultados. \n",
    "Sin embargo, al momento de ver los primeros resultados arrojados por el algoritmo, consideramos que quizás agregando ciertos hiperparámetros a Random Forest como \"max_depth\" el cual limitaba la profundidad del árbol y \"n_estimators\", el número de árboles en el bosque aleatorio.\n",
    "\n",
    "Si colocábamos una profundidad muy pequeña, la cantidad de información que se trasmite, es menos precisa, por ende, en las métricas obteníamos valores muy cercanos a 0 (cero) o inclusive cero. Por ende, necesitabamos una profundidad entre 12 y 20 para que el modelo comience a generar mejores resultados, sin embargo, estos eran bastante bajos y aún considerábamos que se podría mejorar muchos más, ya que el modelo seguía sobreeentrenando. Generaba buenos resultados en cuanto a Presicion (debido al gran desbalanceo de la data) pero recall era demasiado bajo, por ende, esto afectaba a nuestra métrica **F1** arrojando en test un valor de **0.49**.\n",
    "Necesitabamos mejorar recall con el fin de obtener una mayor cantidad de anuncios reales, pero sin que baje demasiado presicion.\n",
    "\n",
    "De acuerdo a esta situación, se decidió comenzar con el análisis de texto. \n",
    "\n",
    "**KNeighbors:**\n",
    "Cuando decidimos utilizar este modelo, nuestra idea era bastante diferente a como veníamos trabajando. En este caso, comenzamos a implementar procesamiento de texto, en donde en un primer momento era aquello que queríamos evitar, pero que luego nos dimos cuenta que los mejores resultados quizás se conseguirían a través de este camino. \n",
    "\n",
    "De acuerdo a los resultados, nuestros pensamientos se hicieron realidad, ya que notamos que comenzó a mejorar nuestra métrica. Sin embargo, consideramos que aún estos resultados siguen siendo vagos y se pueden seguir mejorando, aplicando más algoritmos de pocesamiento de texto sobre nuestra columna 'text_combine'. \n",
    "\n",
    "\n"
   ]
  },
  {
   "cell_type": "code",
   "execution_count": null,
   "metadata": {},
   "outputs": [],
   "source": []
  }
 ],
 "metadata": {
  "kernelspec": {
   "display_name": "Python 3",
   "language": "python",
   "name": "python3"
  },
  "language_info": {
   "codemirror_mode": {
    "name": "ipython",
    "version": 3
   },
   "file_extension": ".py",
   "mimetype": "text/x-python",
   "name": "python",
   "nbconvert_exporter": "python",
   "pygments_lexer": "ipython3",
   "version": "3.7.6"
  }
 },
 "nbformat": 4,
 "nbformat_minor": 4
}
